{
  "nbformat": 4,
  "nbformat_minor": 0,
  "metadata": {
    "colab": {
      "name": "dog-vision.ipynb",
      "provenance": [],
      "collapsed_sections": [],
      "mount_file_id": "1P6pZ70Vie36_RxKW9-kkHCNjyWyaZ_gt",
      "authorship_tag": "ABX9TyPvvh0seT5258jhSb6CsyyL",
      "include_colab_link": true
    },
    "kernelspec": {
      "name": "python3",
      "display_name": "Python 3"
    },
    "language_info": {
      "name": "python"
    }
  },
  "cells": [
    {
      "cell_type": "markdown",
      "metadata": {
        "id": "view-in-github",
        "colab_type": "text"
      },
      "source": [
        "<a href=\"https://colab.research.google.com/github/LucianPopaLVP/Deep-Learning-Project--Dog-Vision/blob/main/dog_vision.ipynb\" target=\"_parent\"><img src=\"https://colab.research.google.com/assets/colab-badge.svg\" alt=\"Open In Colab\"/></a>"
      ]
    },
    {
      "cell_type": "markdown",
      "source": [
        "# 🐶 End-to-end Multi-class Dog Breed Classification\n",
        "\n",
        "This notebook buils an end-to-end multi-class image classifier using Tensorflow 2.0 and TensorFlow Hub."
      ],
      "metadata": {
        "id": "nm79dOWQCUME"
      }
    },
    {
      "cell_type": "markdown",
      "source": [
        "## 1. Problem\n",
        "\n",
        "Identifying the breed of a dog \n",
        "## 2. Data\n",
        "\n",
        "## 3. Evaluation\n",
        "\n",
        "## 4. Features"
      ],
      "metadata": {
        "id": "PHhJkCNaCtRk"
      }
    },
    {
      "cell_type": "code",
      "source": [
        ""
      ],
      "metadata": {
        "id": "9iSqjg23CspJ"
      },
      "execution_count": null,
      "outputs": []
    }
  ]
}