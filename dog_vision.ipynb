{
  "nbformat": 4,
  "nbformat_minor": 0,
  "metadata": {
    "colab": {
      "name": "dog-vision.ipynb",
      "provenance": [],
      "collapsed_sections": [],
      "mount_file_id": "1P6pZ70Vie36_RxKW9-kkHCNjyWyaZ_gt",
      "authorship_tag": "ABX9TyND7K71fZ3tta/AC2yB8BX5",
      "include_colab_link": true
    },
    "kernelspec": {
      "name": "python3",
      "display_name": "Python 3"
    },
    "language_info": {
      "name": "python"
    }
  },
  "cells": [
    {
      "cell_type": "markdown",
      "metadata": {
        "id": "view-in-github",
        "colab_type": "text"
      },
      "source": [
        "<a href=\"https://colab.research.google.com/github/LucianPopaLVP/Deep-Learning-Project--Dog-Vision/blob/main/dog_vision.ipynb\" target=\"_parent\"><img src=\"https://colab.research.google.com/assets/colab-badge.svg\" alt=\"Open In Colab\"/></a>"
      ]
    },
    {
      "cell_type": "markdown",
      "source": [
        "# 🐶 End-to-end Multi-class Dog Breed Classification\n",
        "\n",
        "This notebook buils an end-to-end multi-class image classifier using Tensorflow 2.0 and TensorFlow Hub."
      ],
      "metadata": {
        "id": "nm79dOWQCUME"
      }
    },
    {
      "cell_type": "markdown",
      "source": [
        "## 1. Problem\n",
        "\n",
        "Identifying the breed of a dog given an image of a dog.\n",
        "\n",
        "## 2. Data\n",
        "\n",
        "The data used is from Kaggle's dog bread identification competition: https://www.kaggle.com/c/dog-breed-identification/overview\n",
        "\n",
        "## 3. Evaluation\n",
        "\n",
        "Multi-Class Log Loss: https://scikit-learn.org/stable/modules/generated/sklearn.metrics.log_loss.html\n",
        "\n",
        "## 4. Features\n",
        "\n",
        "Info about data:\n",
        "* Dealing with images (unstructured data) so is probably best to use deep learning/transfer learning;\n",
        "* There are 120 breeds of dogs (this means there are 120 different classes);\n",
        "* There are ~ 10,000 + images in the training set(these images have labels) and ~ 10,000 images in the test set(no labels);"
      ],
      "metadata": {
        "id": "PHhJkCNaCtRk"
      }
    },
    {
      "cell_type": "markdown",
      "source": [
        "## Get my space ready\n",
        "\n",
        "* Import TF 2.X\n",
        "* Import TF Hub\n",
        "* Make sure I am using a GPU"
      ],
      "metadata": {
        "id": "Tfvx1rUHFZsG"
      }
    },
    {
      "cell_type": "code",
      "source": [
        "# Import necessary tools\n",
        "# Import TensorFlow and TensorFlow Hub into Colab\n",
        "import tensorflow as tf\n",
        "import tensorflow_hub as hub\n",
        "print(\"TF version:\", tf.__version__)\n",
        "print(\"TF Hub version:\", hub.__version__)\n",
        "\n",
        "# Check for GPU availability\n",
        "print(\"GPU\", \"available (YESSS!!!!!!!)\" if tf.config.list_physical_devices(\"GPU\") else \"not available!\")"
      ],
      "metadata": {
        "colab": {
          "base_uri": "https://localhost:8080/"
        },
        "id": "9iSqjg23CspJ",
        "outputId": "0e94ec14-be45-4af9-90a0-169cb2b8840c"
      },
      "execution_count": 6,
      "outputs": [
        {
          "output_type": "stream",
          "name": "stdout",
          "text": [
            "TF version: 2.7.0\n",
            "TF Hub version: 0.12.0\n",
            "GPU not available!\n"
          ]
        }
      ]
    },
    {
      "cell_type": "code",
      "source": [
        ""
      ],
      "metadata": {
        "id": "LhyxgoMrFpeV"
      },
      "execution_count": null,
      "outputs": []
    }
  ]
}